{
 "cells": [
  {
   "cell_type": "code",
   "execution_count": 1,
   "metadata": {},
   "outputs": [
    {
     "name": "stdout",
     "output_type": "stream",
     "text": [
      "0.6599120175960898\n",
      "0.4743416490252569\n",
      "0.6599120175960898\n"
     ]
    }
   ],
   "source": [
    "#importing libaries and initialising my network\n",
    "import torch\n",
    "import torch.nn as nn\n",
    "import torch.optim as optim\n",
    "import numpy as np\n",
    "import matplotlib.pyplot as plt\n",
    "import random\n",
    "import torch.nn.functional as F\n",
    "from torch.utils.data import Dataset, DataLoader\n",
    "from mpl_toolkits.mplot3d import Axes3D\n",
    "import pandas as pd\n",
    "import plotly.graph_objects as go\n",
    "#from plotly.colors import n_colorsy\n",
    "import Deep_Neural_Network_Script\n",
    "import mpmath\n",
    "\n",
    "torch.cuda.empty_cache()\n",
    "\n",
    "#device = torch.device(\"cpu\")\n",
    "\n",
    "\n",
    "#model\n",
    "poly_model = Deep_Neural_Network_Script.NeuralNetwork(\n",
    "    number_of_hidden_layers= 3, \n",
    "    number_of_auxillary_variable = 1, #n_features\n",
    "    number_of_phase_space_parameters = 0, #n_features not involved in integration\n",
    "    hidden_layer_size = 30,\n",
    "    output_layer_size = 1,\n",
    "    activation_function = \"sigmoid\",\n",
    "    batch_size = 1,\n",
    "    normalisation_coefficient = 120,\n",
    "    xavier_gain = 1.5,\n",
    "    device_used='cpu'\n",
    ") \n",
    "\n",
    "\n",
    "#torch.set_printoptions(precision=20)\n",
    "\n",
    "normalisation_coefficient = poly_model.normalisation_coefficient\n",
    "\n",
    "#saved_model = '1L_GELU_10layer_30hidden_branch1_run9.pth'"
   ]
  },
  {
   "cell_type": "code",
   "execution_count": 2,
   "metadata": {},
   "outputs": [],
   "source": [
    "#Data to model\n",
    "file_name_I1 = 'GlobalTemperatures.csv'\n",
    "I1_data = pd.read_csv(file_name_I1)\n",
    "Cummulative_days = I1_data['days ']\n",
    "Mean_temp = I1_data['Land Average Temperature']\n",
    "Mean_temp_uncertainty = I1_data['Temp uncertainty']\n",
    "\n",
    "#normalise the data between 0 and 1\n",
    "normalised_Mean_temp = torch.tensor(Mean_temp/(max(Mean_temp)-min(Mean_temp))).view(len(Mean_temp),1).to(poly_model.device_used)\n",
    "normalised_Mean_temp_uncertainty = torch.tensor(Mean_temp_uncertainty/(max(Mean_temp)-min(Mean_temp))).view(len(Mean_temp),1).to(poly_model.device_used)\n",
    "normalised_Cummulative_days = torch.tensor(Cummulative_days/max(Cummulative_days)).view(len(Mean_temp),1).to(poly_model.device_used)\n",
    "\n",
    "#test set \n",
    "\n",
    "test_fraction = 0.7 #relative size of the test set\n",
    "test_size = round(len(normalised_Cummulative_days)*0.7)\n",
    "Temp_test = normalised_Mean_temp[:test_size]\n",
    "Temp_uncertainty_test = normalised_Mean_temp_uncertainty[:test_size]\n",
    "Days_test = normalised_Cummulative_days[:test_size]\n",
    "Temp_val = normalised_Mean_temp[test_size:]\n",
    "Temp_uncertainty_val = normalised_Mean_temp_uncertainty[test_size:]\n",
    "Days_val = normalised_Cummulative_days[test_size:]\n",
    "\n"
   ]
  },
  {
   "cell_type": "code",
   "execution_count": 3,
   "metadata": {},
   "outputs": [
    {
     "name": "stdout",
     "output_type": "stream",
     "text": [
      "Epoch  [100/1000],   Loss: 0.37157466,   Val Loss: 0.42693061\n",
      "Epoch  [200/1000],   Loss: 0.09030036,   Val Loss: 0.10966379\n",
      "Epoch  [300/1000],   Loss: 0.04791276,   Val Loss: 0.05135108\n",
      "Epoch  [400/1000],   Loss: 0.04463881,   Val Loss: 0.04318314\n",
      "Epoch  [500/1000],   Loss: 0.04451180,   Val Loss: 0.04202585\n",
      "Epoch  [600/1000],   Loss: 0.04450906,   Val Loss: 0.04187084\n",
      "Epoch  [700/1000],   Loss: 0.04450869,   Val Loss: 0.04185135\n",
      "Epoch  [800/1000],   Loss: 0.04450831,   Val Loss: 0.04184498\n",
      "Epoch  [900/1000],   Loss: 0.04450790,   Val Loss: 0.04183901\n",
      "Epoch  [1000/1000],   Loss: 0.04450745,   Val Loss: 0.04183257\n"
     ]
    }
   ],
   "source": [
    "\n",
    "#training tools #investigate the MSLE\n",
    "loss_function = nn.MSELoss()\n",
    "optimizer = optim.Adam(poly_model.parameters(), lr =0.0001)#\n",
    "#scheduler = torch.optim.lr_scheduler.ReduceLROnPlateau(optimizer, mode = 'min', factor = 0.99, patience = 60, verbose=True)# 0.75\n",
    "\n",
    "\n",
    "network_gradients_array_hidden = []\n",
    "network_gradients_array_input = []\n",
    "network_gradients_array_output = []\n",
    "network_gradients_array_hidden_std = []\n",
    "network_gradients_array_input_std = []\n",
    "network_gradients_array_output_std = []\n",
    "\n",
    "\n",
    "iterations = 1000 \n",
    "freq = 10\n",
    "collection_rate = int(iterations/(freq))\n",
    "i_indication = 0\n",
    "\n",
    "\n",
    "#validation_set_size = \n",
    "\n",
    "#arrays to store information from the training\n",
    "y_max_array = [] \n",
    "y_min_array = []\n",
    "y_mean_array = []\n",
    "y_std_array = []\n",
    "loss_array = np.zeros(int(freq))\n",
    "val_loss_array = np.zeros(int(freq))\n",
    "iteration_array = np.zeros(int(freq))\n",
    "lr_array = np.zeros(int(freq))\n",
    "\n",
    "#make these np.zero arrays and fix values to them to increase speed\n",
    "activation_value_array = [] #6 is because number of hidden layers + 2\n",
    "activation_value_array_std = [] #6 is because number of hidden layers + 2\n",
    "weight_array = []\n",
    "bias_array = []\n",
    "\n",
    "#training loop for regression using y_observed and y_predicted \n",
    "for epoch in range(iterations):\n",
    "\n",
    "    if epoch == 10 or epoch ==int(iterations)-1:\n",
    "        with torch.no_grad():\n",
    "            network_gradients_array_hidden.append(poly_model.weights_hidden_hidden.grad)\n",
    "            network_gradients_array_input.append(poly_model.weights_input_hidden.grad)\n",
    "            network_gradients_array_output.append(poly_model.weights_hidden_output.grad)\n",
    "\n",
    "   #zero gradients\n",
    "    optimizer.zero_grad()   \n",
    "      \n",
    "\n",
    "    y_observed = Temp_test #from featurs off of Kaggle\n",
    "   \n",
    "    y_predicted = poly_model.forward(Days_test) #outputs from my network\n",
    "\n",
    "    \n",
    "    loss = loss_function(y_predicted, y_observed)\n",
    "    \n",
    "    loss.backward() #    #backward pass\n",
    "\n",
    "\n",
    "    optimizer.step() #update parameters\n",
    "    \n",
    "    \n",
    "    poly_model.eval() #\n",
    "    with torch.no_grad():\n",
    "        y_observed_val = Temp_val #from featurs off of Kaggle\n",
    "   \n",
    "        y_predicted_val = poly_model.forward(Days_val) #outputs from my network\n",
    "\n",
    "        val_loss = loss_function(y_observed_val, y_predicted_val).to(torch.device(poly_model.device_used))\n",
    "        #print(val_loss) \n",
    "\n",
    "   # scheduler.step(val_loss)\n",
    "    \n",
    "    \n",
    "    poly_model.train()\n",
    "   \n",
    "    \n",
    "    #figure out the collection rate for network performance params. \n",
    "\n",
    "    if (epoch + 1) % collection_rate == 0: #10000   \n",
    "        \n",
    "        poly_model.eval()\n",
    "        with torch.no_grad():\n",
    "            print(f'Epoch  [{epoch+1}/{iterations}],   Loss: {loss.item():.8f},   Val Loss: {val_loss.item():.8f}')\n",
    "      #      print(f'network integrand: {outputs[0]}')\n",
    "       #     print(f'true integrand: {y}')\n",
    "            loss_array[i_indication] = loss\n",
    "            val_loss_array[i_indication] = val_loss\n",
    "            iteration_array[i_indication] = epoch + 1\n",
    "            lr_array[i_indication] = optimizer.param_groups[0]['lr']\n",
    "            i_indication = i_indication + 1\n",
    "        poly_model.train()\n",
    "   \n",
    "  \n"
   ]
  },
  {
   "cell_type": "code",
   "execution_count": 4,
   "metadata": {},
   "outputs": [
    {
     "data": {
      "text/plain": [
       "[<matplotlib.lines.Line2D at 0x7fb81c73c610>]"
      ]
     },
     "execution_count": 4,
     "metadata": {},
     "output_type": "execute_result"
    },
    {
     "data": {
      "image/png": "[encoded data removed]",
      "text/plain": [
       "<Figure size 640x480 with 1 Axes>"
      ]
     },
     "metadata": {},
     "output_type": "display_data"
    }
   ],
   "source": [
    "plt.plot(iteration_array, loss_array, 'blue')\n",
    "plt.plot(iteration_array, val_loss_array, 'red')"
   ]
  },
  {
   "cell_type": "code",
   "execution_count": null,
   "metadata": {},
   "outputs": [],
   "source": []
  }
 ],
 "metadata": {
  "kernelspec": {
   "display_name": "Python 3",
   "language": "python",
   "name": "python3"
  },
  "language_info": {
   "codemirror_mode": {
    "name": "ipython",
    "version": 3
   },
   "file_extension": ".py",
   "mimetype": "text/x-python",
   "name": "python",
   "nbconvert_exporter": "python",
   "pygments_lexer": "ipython3",
   "version": "3.10.12"
  }
 },
 "nbformat": 4,
 "nbformat_minor": 2
}
